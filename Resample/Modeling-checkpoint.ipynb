{
 "cells": [
  {
   "cell_type": "code",
   "execution_count": 1,
   "id": "f9d612c9-8fc6-47c1-85d9-e10d914f0684",
   "metadata": {
    "tags": []
   },
   "outputs": [],
   "source": [
    "import pandas as pd\n",
    "file_path = r'D:\\Upenn\\2024 Spring\\MUSA Practicum\\Musa_801_Watauga\\model17.csv'\n",
    "df = pd.read_csv(file_path)"
   ]
  },
  {
   "cell_type": "code",
   "execution_count": 2,
   "id": "34d73f07-fc09-4c86-9bb4-e368e869ad2f",
   "metadata": {
    "tags": []
   },
   "outputs": [
    {
     "data": {
      "text/html": [
       "<div>\n",
       "<style scoped>\n",
       "    .dataframe tbody tr th:only-of-type {\n",
       "        vertical-align: middle;\n",
       "    }\n",
       "\n",
       "    .dataframe tbody tr th {\n",
       "        vertical-align: top;\n",
       "    }\n",
       "\n",
       "    .dataframe thead th {\n",
       "        text-align: right;\n",
       "    }\n",
       "</style>\n",
       "<table border=\"1\" class=\"dataframe\">\n",
       "  <thead>\n",
       "    <tr style=\"text-align: right;\">\n",
       "      <th></th>\n",
       "      <th>Slope_Ave</th>\n",
       "      <th>Slope_Max</th>\n",
       "      <th>Slope_Min</th>\n",
       "      <th>Soil_A</th>\n",
       "      <th>Soil_B</th>\n",
       "      <th>Soil_B.C</th>\n",
       "      <th>Soil_C</th>\n",
       "      <th>Soil_Unknown</th>\n",
       "      <th>n_permit_22</th>\n",
       "      <th>permit_17.nn_3</th>\n",
       "      <th>permit_17.nn_4</th>\n",
       "      <th>permit_17.nn_5</th>\n",
       "    </tr>\n",
       "  </thead>\n",
       "  <tbody>\n",
       "    <tr>\n",
       "      <th>0</th>\n",
       "      <td>15.126162</td>\n",
       "      <td>15.892126</td>\n",
       "      <td>14.360197</td>\n",
       "      <td>0.000000</td>\n",
       "      <td>100.000000</td>\n",
       "      <td>0.0</td>\n",
       "      <td>0.0</td>\n",
       "      <td>0.0</td>\n",
       "      <td>0.0</td>\n",
       "      <td>815.502434</td>\n",
       "      <td>1395.234410</td>\n",
       "      <td>1830.361604</td>\n",
       "    </tr>\n",
       "    <tr>\n",
       "      <th>1</th>\n",
       "      <td>14.872933</td>\n",
       "      <td>15.389995</td>\n",
       "      <td>14.189871</td>\n",
       "      <td>69.864145</td>\n",
       "      <td>30.135855</td>\n",
       "      <td>0.0</td>\n",
       "      <td>0.0</td>\n",
       "      <td>0.0</td>\n",
       "      <td>0.0</td>\n",
       "      <td>13668.987184</td>\n",
       "      <td>14270.209259</td>\n",
       "      <td>14692.173817</td>\n",
       "    </tr>\n",
       "    <tr>\n",
       "      <th>2</th>\n",
       "      <td>9.402553</td>\n",
       "      <td>14.827607</td>\n",
       "      <td>3.949322</td>\n",
       "      <td>0.000000</td>\n",
       "      <td>100.000000</td>\n",
       "      <td>0.0</td>\n",
       "      <td>0.0</td>\n",
       "      <td>0.0</td>\n",
       "      <td>0.0</td>\n",
       "      <td>7281.948769</td>\n",
       "      <td>8392.500841</td>\n",
       "      <td>9301.681077</td>\n",
       "    </tr>\n",
       "    <tr>\n",
       "      <th>3</th>\n",
       "      <td>17.713244</td>\n",
       "      <td>22.777679</td>\n",
       "      <td>13.601656</td>\n",
       "      <td>100.000000</td>\n",
       "      <td>0.000000</td>\n",
       "      <td>0.0</td>\n",
       "      <td>0.0</td>\n",
       "      <td>0.0</td>\n",
       "      <td>0.0</td>\n",
       "      <td>6311.889899</td>\n",
       "      <td>6563.546184</td>\n",
       "      <td>6811.781505</td>\n",
       "    </tr>\n",
       "    <tr>\n",
       "      <th>4</th>\n",
       "      <td>6.035585</td>\n",
       "      <td>9.953978</td>\n",
       "      <td>3.297676</td>\n",
       "      <td>62.076305</td>\n",
       "      <td>37.923695</td>\n",
       "      <td>0.0</td>\n",
       "      <td>0.0</td>\n",
       "      <td>0.0</td>\n",
       "      <td>0.0</td>\n",
       "      <td>3260.965410</td>\n",
       "      <td>3725.558667</td>\n",
       "      <td>4330.258599</td>\n",
       "    </tr>\n",
       "  </tbody>\n",
       "</table>\n",
       "</div>"
      ],
      "text/plain": [
       "   Slope_Ave  Slope_Max  Slope_Min      Soil_A      Soil_B  Soil_B.C  Soil_C  \\\n",
       "0  15.126162  15.892126  14.360197    0.000000  100.000000       0.0     0.0   \n",
       "1  14.872933  15.389995  14.189871   69.864145   30.135855       0.0     0.0   \n",
       "2   9.402553  14.827607   3.949322    0.000000  100.000000       0.0     0.0   \n",
       "3  17.713244  22.777679  13.601656  100.000000    0.000000       0.0     0.0   \n",
       "4   6.035585   9.953978   3.297676   62.076305   37.923695       0.0     0.0   \n",
       "\n",
       "   Soil_Unknown  n_permit_22  permit_17.nn_3  permit_17.nn_4  permit_17.nn_5  \n",
       "0           0.0          0.0      815.502434     1395.234410     1830.361604  \n",
       "1           0.0          0.0    13668.987184    14270.209259    14692.173817  \n",
       "2           0.0          0.0     7281.948769     8392.500841     9301.681077  \n",
       "3           0.0          0.0     6311.889899     6563.546184     6811.781505  \n",
       "4           0.0          0.0     3260.965410     3725.558667     4330.258599  "
      ]
     },
     "execution_count": 2,
     "metadata": {},
     "output_type": "execute_result"
    }
   ],
   "source": [
    "df.head()"
   ]
  },
  {
   "cell_type": "code",
   "execution_count": 8,
   "id": "e9f6f69d-8162-4045-b5da-4a8c3fdcc685",
   "metadata": {
    "tags": []
   },
   "outputs": [],
   "source": [
    "df = df.fillna(0)"
   ]
  },
  {
   "cell_type": "code",
   "execution_count": 11,
   "id": "9ae98f16-e9aa-4b40-b667-bd609e20c868",
   "metadata": {
    "tags": []
   },
   "outputs": [
    {
     "name": "stdout",
     "output_type": "stream",
     "text": [
      "Accuracy: 0.9922947012877349\n"
     ]
    },
    {
     "name": "stderr",
     "output_type": "stream",
     "text": [
      "D:\\Users\\Caijingyi\\mambaforge\\envs\\musa-550-fall-2023\\lib\\site-packages\\sklearn\\linear_model\\_logistic.py:460: ConvergenceWarning: lbfgs failed to converge (status=1):\n",
      "STOP: TOTAL NO. of ITERATIONS REACHED LIMIT.\n",
      "\n",
      "Increase the number of iterations (max_iter) or scale the data as shown in:\n",
      "    https://scikit-learn.org/stable/modules/preprocessing.html\n",
      "Please also refer to the documentation for alternative solver options:\n",
      "    https://scikit-learn.org/stable/modules/linear_model.html#logistic-regression\n",
      "  n_iter_i = _check_optimize_result(\n"
     ]
    }
   ],
   "source": [
    "import pandas as pd\n",
    "from sklearn.linear_model import LogisticRegression\n",
    "from sklearn.model_selection import train_test_split\n",
    "from sklearn.metrics import accuracy_score\n",
    "\n",
    "# Split data into features (X) and target variable (y)\n",
    "X = df.drop(columns=[\"n_permit_22\"])  # Features excluding the target variable\n",
    "y = df[\"n_permit_22\"]  # Target variable\n",
    "\n",
    "# Split data into training and testing sets\n",
    "X_train, X_test, y_train, y_test = train_test_split(X, y, test_size=0.2, random_state=42)\n",
    "\n",
    "# Initialize logistic regression model\n",
    "model = LogisticRegression(max_iter=200)\n",
    "\n",
    "# Train the model\n",
    "model.fit(X_train, y_train)\n",
    "\n",
    "# Predict on the testing set\n",
    "y_pred = model.predict(X_test)\n",
    "\n",
    "# Evaluate the model\n",
    "accuracy = accuracy_score(y_test, y_pred)\n",
    "print(\"Accuracy:\", accuracy)"
   ]
  }
 ],
 "metadata": {
  "kernelspec": {
   "display_name": "Python 3 (ipykernel)",
   "language": "python",
   "name": "python3"
  },
  "language_info": {
   "codemirror_mode": {
    "name": "ipython",
    "version": 3
   },
   "file_extension": ".py",
   "mimetype": "text/x-python",
   "name": "python",
   "nbconvert_exporter": "python",
   "pygments_lexer": "ipython3",
   "version": "3.10.12"
  }
 },
 "nbformat": 4,
 "nbformat_minor": 5
}
